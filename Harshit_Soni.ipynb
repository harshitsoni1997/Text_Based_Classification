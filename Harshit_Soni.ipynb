{
 "cells": [
  {
   "cell_type": "code",
   "execution_count": 243,
   "id": "0a98baa2",
   "metadata": {},
   "outputs": [],
   "source": [
    "import json\n",
    "import pandas as pd\n",
    "\n",
    "# Reading the JSON file containing metadata\n",
    "json_file_path = \"pavbhaji.json\"\n",
    "\n",
    "# Initializing lists to store text and labels\n",
    "texts = []\n",
    "labels = []\n",
    "\n",
    "#extracted data with UTF-8 encoding\n",
    "with open(json_file_path, 'r', encoding='utf-8') as json_file:\n",
    "    data = json.load(json_file)\n"
   ]
  },
  {
   "cell_type": "code",
   "execution_count": 244,
   "id": "849d359c",
   "metadata": {},
   "outputs": [],
   "source": [
    "data=pd.DataFrame(data)"
   ]
  },
  {
   "cell_type": "code",
   "execution_count": 245,
   "id": "b5527bd4",
   "metadata": {},
   "outputs": [],
   "source": [
    "# Splitting the 'display_url' column on the last '/' to match it to images in folder\n",
    "data['display_url'] = data['display_url'].str.rsplit('/', 1).str[-1]\n"
   ]
  },
  {
   "cell_type": "code",
   "execution_count": 246,
   "id": "a943ff00",
   "metadata": {},
   "outputs": [],
   "source": [
    "import os\n",
    "#paths to the \"PB\"-Pav Bhaji and \"NPB\"-Not Pav Bhaji folders\n",
    "pb_folder = \"PB\"  \n",
    "npb_folder = \"NPB\"\n",
    "# Creating a list of image file names in the \"PB\" and \"NPB\" folder\n",
    "pb_images = os.listdir(pb_folder)\n",
    "npb_images = os.listdir(npb_folder)\n",
    "# Created two new columns for image namesin two folders\n",
    "data['PB'] = ', '.join(pb_images)  \n",
    "data['NPB'] = ', '.join(npb_images)  \n"
   ]
  },
  {
   "cell_type": "code",
   "execution_count": 247,
   "id": "6b7fc079",
   "metadata": {
    "scrolled": false
   },
   "outputs": [
    {
     "data": {
      "text/html": [
       "<div>\n",
       "<style scoped>\n",
       "    .dataframe tbody tr th:only-of-type {\n",
       "        vertical-align: middle;\n",
       "    }\n",
       "\n",
       "    .dataframe tbody tr th {\n",
       "        vertical-align: top;\n",
       "    }\n",
       "\n",
       "    .dataframe thead th {\n",
       "        text-align: right;\n",
       "    }\n",
       "</style>\n",
       "<table border=\"1\" class=\"dataframe\">\n",
       "  <thead>\n",
       "    <tr style=\"text-align: right;\">\n",
       "      <th></th>\n",
       "      <th>dimensions</th>\n",
       "      <th>display_url</th>\n",
       "      <th>edge_liked_by</th>\n",
       "      <th>edge_media_preview_like</th>\n",
       "      <th>edge_media_to_caption</th>\n",
       "      <th>edge_media_to_comment</th>\n",
       "      <th>id</th>\n",
       "      <th>is_video</th>\n",
       "      <th>location</th>\n",
       "      <th>owner</th>\n",
       "      <th>...</th>\n",
       "      <th>tags</th>\n",
       "      <th>taken_at_timestamp</th>\n",
       "      <th>thumbnail_resources</th>\n",
       "      <th>thumbnail_src</th>\n",
       "      <th>urls</th>\n",
       "      <th>video_view_count</th>\n",
       "      <th>comments_disabled</th>\n",
       "      <th>PB</th>\n",
       "      <th>NPB</th>\n",
       "      <th>label</th>\n",
       "    </tr>\n",
       "  </thead>\n",
       "  <tbody>\n",
       "    <tr>\n",
       "      <th>0</th>\n",
       "      <td>{'height': 734, 'width': 640}</td>\n",
       "      <td>37599530_291077411445016_3382263118984904704_n...</td>\n",
       "      <td>{'count': 3797}</td>\n",
       "      <td>{'count': 3797}</td>\n",
       "      <td>{'edges': [{'node': {'text': 'TAG A PAV BHAJI ...</td>\n",
       "      <td>{'count': 52}</td>\n",
       "      <td>1834712933156555738</td>\n",
       "      <td>True</td>\n",
       "      <td>None</td>\n",
       "      <td>{'id': '1919686029'}</td>\n",
       "      <td>...</td>\n",
       "      <td>[vadapav, foodgram, foodphotography, foodblogg...</td>\n",
       "      <td>1532934873</td>\n",
       "      <td>[{'config_height': 150, 'config_width': 150, '...</td>\n",
       "      <td>https://instagram.fpnq3-1.fna.fbcdn.net/vp/cb5...</td>\n",
       "      <td>[https://instagram.fpnq3-1.fna.fbcdn.net/vp/89...</td>\n",
       "      <td>0.0</td>\n",
       "      <td>NaN</td>\n",
       "      <td>16228666_180901469054785_6854217108004274176_n...</td>\n",
       "      <td>24274012_2042365482666908_6941195371183865856_...</td>\n",
       "      <td>-1</td>\n",
       "    </tr>\n",
       "    <tr>\n",
       "      <th>1</th>\n",
       "      <td>{'height': 750, 'width': 750}</td>\n",
       "      <td>36848355_187489742110497_7922878806031859712_n...</td>\n",
       "      <td>{'count': 12041}</td>\n",
       "      <td>{'count': 12041}</td>\n",
       "      <td>{'edges': [{'node': {'text': 'देसी स्टाइल पाव ...</td>\n",
       "      <td>{'count': 325}</td>\n",
       "      <td>1826000656302706137</td>\n",
       "      <td>True</td>\n",
       "      <td>{'has_public_page': True, 'id': '245717485', '...</td>\n",
       "      <td>{'id': '1445587278'}</td>\n",
       "      <td>...</td>\n",
       "      <td>[healthyfood, sokolkata, mumbaifoodie, faridab...</td>\n",
       "      <td>1531897016</td>\n",
       "      <td>[{'config_height': 150, 'config_width': 150, '...</td>\n",
       "      <td>https://instagram.fpnq3-1.fna.fbcdn.net/vp/ad3...</td>\n",
       "      <td>[https://instagram.fpnq3-1.fna.fbcdn.net/vp/9c...</td>\n",
       "      <td>0.0</td>\n",
       "      <td>NaN</td>\n",
       "      <td>16228666_180901469054785_6854217108004274176_n...</td>\n",
       "      <td>24274012_2042365482666908_6941195371183865856_...</td>\n",
       "      <td>-1</td>\n",
       "    </tr>\n",
       "  </tbody>\n",
       "</table>\n",
       "<p>2 rows × 21 columns</p>\n",
       "</div>"
      ],
      "text/plain": [
       "                      dimensions  \\\n",
       "0  {'height': 734, 'width': 640}   \n",
       "1  {'height': 750, 'width': 750}   \n",
       "\n",
       "                                         display_url     edge_liked_by  \\\n",
       "0  37599530_291077411445016_3382263118984904704_n...   {'count': 3797}   \n",
       "1  36848355_187489742110497_7922878806031859712_n...  {'count': 12041}   \n",
       "\n",
       "  edge_media_preview_like                              edge_media_to_caption  \\\n",
       "0         {'count': 3797}  {'edges': [{'node': {'text': 'TAG A PAV BHAJI ...   \n",
       "1        {'count': 12041}  {'edges': [{'node': {'text': 'देसी स्टाइल पाव ...   \n",
       "\n",
       "  edge_media_to_comment                   id  is_video  \\\n",
       "0         {'count': 52}  1834712933156555738      True   \n",
       "1        {'count': 325}  1826000656302706137      True   \n",
       "\n",
       "                                            location                 owner  \\\n",
       "0                                               None  {'id': '1919686029'}   \n",
       "1  {'has_public_page': True, 'id': '245717485', '...  {'id': '1445587278'}   \n",
       "\n",
       "   ...                                               tags taken_at_timestamp  \\\n",
       "0  ...  [vadapav, foodgram, foodphotography, foodblogg...         1532934873   \n",
       "1  ...  [healthyfood, sokolkata, mumbaifoodie, faridab...         1531897016   \n",
       "\n",
       "                                 thumbnail_resources  \\\n",
       "0  [{'config_height': 150, 'config_width': 150, '...   \n",
       "1  [{'config_height': 150, 'config_width': 150, '...   \n",
       "\n",
       "                                       thumbnail_src  \\\n",
       "0  https://instagram.fpnq3-1.fna.fbcdn.net/vp/cb5...   \n",
       "1  https://instagram.fpnq3-1.fna.fbcdn.net/vp/ad3...   \n",
       "\n",
       "                                                urls video_view_count  \\\n",
       "0  [https://instagram.fpnq3-1.fna.fbcdn.net/vp/89...              0.0   \n",
       "1  [https://instagram.fpnq3-1.fna.fbcdn.net/vp/9c...              0.0   \n",
       "\n",
       "   comments_disabled                                                 PB  \\\n",
       "0                NaN  16228666_180901469054785_6854217108004274176_n...   \n",
       "1                NaN  16228666_180901469054785_6854217108004274176_n...   \n",
       "\n",
       "                                                 NPB label  \n",
       "0  24274012_2042365482666908_6941195371183865856_...    -1  \n",
       "1  24274012_2042365482666908_6941195371183865856_...    -1  \n",
       "\n",
       "[2 rows x 21 columns]"
      ]
     },
     "execution_count": 247,
     "metadata": {},
     "output_type": "execute_result"
    }
   ],
   "source": [
    "# Defined a function to assign labels based on 'display_url'\n",
    "def assign_label(row):\n",
    "    if row['display_url'] in row['PB']:\n",
    "        return 1  #If image is a pav bhaji it'll display 1 \n",
    "    elif row['display_url'] in row['NPB']:\n",
    "        return 0 \n",
    "    else:\n",
    "        return -1  #No match\n",
    "\n",
    "# Next Created the 'label' column\n",
    "data['label'] = data.apply(assign_label, axis=1)\n",
    "\n",
    "data.head(2)\n"
   ]
  },
  {
   "cell_type": "code",
   "execution_count": 248,
   "id": "e41d558a",
   "metadata": {},
   "outputs": [
    {
     "name": "stdout",
     "output_type": "stream",
     "text": [
      "Label Value Counts:\n",
      " -1    1048\n",
      " 0     269\n",
      " 1     183\n",
      "Name: label, dtype: int64\n"
     ]
    }
   ],
   "source": [
    "label_counts = data['label'].value_counts()\n",
    "print(\"Label Value Counts:\\n\", label_counts)"
   ]
  },
  {
   "cell_type": "code",
   "execution_count": 249,
   "id": "4066331a",
   "metadata": {},
   "outputs": [],
   "source": [
    "#Took post description as a feature\n",
    "df=data[['edge_media_to_caption','label']]"
   ]
  },
  {
   "cell_type": "code",
   "execution_count": 250,
   "id": "aa630a76",
   "metadata": {
    "scrolled": true
   },
   "outputs": [
    {
     "data": {
      "text/html": [
       "<div>\n",
       "<style scoped>\n",
       "    .dataframe tbody tr th:only-of-type {\n",
       "        vertical-align: middle;\n",
       "    }\n",
       "\n",
       "    .dataframe tbody tr th {\n",
       "        vertical-align: top;\n",
       "    }\n",
       "\n",
       "    .dataframe thead th {\n",
       "        text-align: right;\n",
       "    }\n",
       "</style>\n",
       "<table border=\"1\" class=\"dataframe\">\n",
       "  <thead>\n",
       "    <tr style=\"text-align: right;\">\n",
       "      <th></th>\n",
       "      <th>description</th>\n",
       "      <th>label</th>\n",
       "    </tr>\n",
       "  </thead>\n",
       "  <tbody>\n",
       "    <tr>\n",
       "      <th>0</th>\n",
       "      <td>{'edges': [{'node': {'text': 'TAG A PAV BHAJI ...</td>\n",
       "      <td>-1</td>\n",
       "    </tr>\n",
       "    <tr>\n",
       "      <th>1</th>\n",
       "      <td>{'edges': [{'node': {'text': 'देसी स्टाइल पाव ...</td>\n",
       "      <td>-1</td>\n",
       "    </tr>\n",
       "  </tbody>\n",
       "</table>\n",
       "</div>"
      ],
      "text/plain": [
       "                                         description  label\n",
       "0  {'edges': [{'node': {'text': 'TAG A PAV BHAJI ...     -1\n",
       "1  {'edges': [{'node': {'text': 'देसी स्टाइल पाव ...     -1"
      ]
     },
     "execution_count": 250,
     "metadata": {},
     "output_type": "execute_result"
    }
   ],
   "source": [
    "df.rename(columns={'edge_media_to_caption': 'description'}, inplace=True)\n",
    "df.head(2)"
   ]
  },
  {
   "cell_type": "code",
   "execution_count": 251,
   "id": "ba357ec8",
   "metadata": {},
   "outputs": [
    {
     "data": {
      "text/html": [
       "<div>\n",
       "<style scoped>\n",
       "    .dataframe tbody tr th:only-of-type {\n",
       "        vertical-align: middle;\n",
       "    }\n",
       "\n",
       "    .dataframe tbody tr th {\n",
       "        vertical-align: top;\n",
       "    }\n",
       "\n",
       "    .dataframe thead th {\n",
       "        text-align: right;\n",
       "    }\n",
       "</style>\n",
       "<table border=\"1\" class=\"dataframe\">\n",
       "  <thead>\n",
       "    <tr style=\"text-align: right;\">\n",
       "      <th></th>\n",
       "      <th>description</th>\n",
       "      <th>label</th>\n",
       "    </tr>\n",
       "  </thead>\n",
       "  <tbody>\n",
       "    <tr>\n",
       "      <th>17</th>\n",
       "      <td>{'edges': [{'node': {'text': 'Chicken Tikka 😍😋...</td>\n",
       "      <td>0</td>\n",
       "    </tr>\n",
       "    <tr>\n",
       "      <th>18</th>\n",
       "      <td>{'edges': [{'node': {'text': 'Hello frandz,\\np...</td>\n",
       "      <td>1</td>\n",
       "    </tr>\n",
       "    <tr>\n",
       "      <th>19</th>\n",
       "      <td>{'edges': [{'node': {'text': 'Follow @dillicio...</td>\n",
       "      <td>0</td>\n",
       "    </tr>\n",
       "    <tr>\n",
       "      <th>20</th>\n",
       "      <td>{'edges': [{'node': {'text': 'We’ve got you so...</td>\n",
       "      <td>0</td>\n",
       "    </tr>\n",
       "    <tr>\n",
       "      <th>21</th>\n",
       "      <td>{'edges': [{'node': {'text': 'People who love ...</td>\n",
       "      <td>0</td>\n",
       "    </tr>\n",
       "    <tr>\n",
       "      <th>...</th>\n",
       "      <td>...</td>\n",
       "      <td>...</td>\n",
       "    </tr>\n",
       "    <tr>\n",
       "      <th>503</th>\n",
       "      <td>{'edges': [{'node': {'text': 'Pav bhaji again ...</td>\n",
       "      <td>1</td>\n",
       "    </tr>\n",
       "    <tr>\n",
       "      <th>504</th>\n",
       "      <td>{'edges': [{'node': {'text': '#pavbhaji 😋 #lun...</td>\n",
       "      <td>1</td>\n",
       "    </tr>\n",
       "    <tr>\n",
       "      <th>505</th>\n",
       "      <td>{'edges': [{'node': {'text': 'Craving for some...</td>\n",
       "      <td>1</td>\n",
       "    </tr>\n",
       "    <tr>\n",
       "      <th>506</th>\n",
       "      <td>{'edges': [{'node': {'text': 'Dear friends, \\n...</td>\n",
       "      <td>0</td>\n",
       "    </tr>\n",
       "    <tr>\n",
       "      <th>507</th>\n",
       "      <td>{'edges': [{'node': {'text': '#Repost @appetit...</td>\n",
       "      <td>0</td>\n",
       "    </tr>\n",
       "  </tbody>\n",
       "</table>\n",
       "<p>452 rows × 2 columns</p>\n",
       "</div>"
      ],
      "text/plain": [
       "                                           description  label\n",
       "17   {'edges': [{'node': {'text': 'Chicken Tikka 😍😋...      0\n",
       "18   {'edges': [{'node': {'text': 'Hello frandz,\\np...      1\n",
       "19   {'edges': [{'node': {'text': 'Follow @dillicio...      0\n",
       "20   {'edges': [{'node': {'text': 'We’ve got you so...      0\n",
       "21   {'edges': [{'node': {'text': 'People who love ...      0\n",
       "..                                                 ...    ...\n",
       "503  {'edges': [{'node': {'text': 'Pav bhaji again ...      1\n",
       "504  {'edges': [{'node': {'text': '#pavbhaji 😋 #lun...      1\n",
       "505  {'edges': [{'node': {'text': 'Craving for some...      1\n",
       "506  {'edges': [{'node': {'text': 'Dear friends, \\n...      0\n",
       "507  {'edges': [{'node': {'text': '#Repost @appetit...      0\n",
       "\n",
       "[452 rows x 2 columns]"
      ]
     },
     "execution_count": 251,
     "metadata": {},
     "output_type": "execute_result"
    }
   ],
   "source": [
    "# Remove records with label -1 i.e. not a match with either folders\n",
    "df = df[df['label'] != -1]\n",
    "df"
   ]
  },
  {
   "cell_type": "code",
   "execution_count": 252,
   "id": "119a7138",
   "metadata": {},
   "outputs": [
    {
     "name": "stdout",
     "output_type": "stream",
     "text": [
      "Label Value Counts:\n",
      " 0    269\n",
      "1    183\n",
      "Name: label, dtype: int64\n"
     ]
    }
   ],
   "source": [
    "label_counts = df['label'].value_counts()\n",
    "print(\"Label Value Counts:\\n\", label_counts)"
   ]
  },
  {
   "cell_type": "code",
   "execution_count": 253,
   "id": "e2669285",
   "metadata": {},
   "outputs": [
    {
     "data": {
      "text/html": [
       "<div>\n",
       "<style scoped>\n",
       "    .dataframe tbody tr th:only-of-type {\n",
       "        vertical-align: middle;\n",
       "    }\n",
       "\n",
       "    .dataframe tbody tr th {\n",
       "        vertical-align: top;\n",
       "    }\n",
       "\n",
       "    .dataframe thead th {\n",
       "        text-align: right;\n",
       "    }\n",
       "</style>\n",
       "<table border=\"1\" class=\"dataframe\">\n",
       "  <thead>\n",
       "    <tr style=\"text-align: right;\">\n",
       "      <th></th>\n",
       "      <th>description</th>\n",
       "      <th>label</th>\n",
       "    </tr>\n",
       "  </thead>\n",
       "  <tbody>\n",
       "    <tr>\n",
       "      <th>17</th>\n",
       "      <td>chicken tikka nnnnfollow dillikiteekhimirch...</td>\n",
       "      <td>0</td>\n",
       "    </tr>\n",
       "    <tr>\n",
       "      <th>18</th>\n",
       "      <td>hello frandznpav bhaji khaalongaram hai nye...</td>\n",
       "      <td>1</td>\n",
       "    </tr>\n",
       "  </tbody>\n",
       "</table>\n",
       "</div>"
      ],
      "text/plain": [
       "                                          description  label\n",
       "17     chicken tikka nnnnfollow dillikiteekhimirch...      0\n",
       "18     hello frandznpav bhaji khaalongaram hai nye...      1"
      ]
     },
     "execution_count": 253,
     "metadata": {},
     "output_type": "execute_result"
    }
   ],
   "source": [
    "import re\n",
    "from sklearn.model_selection import train_test_split\n",
    "from sklearn.feature_extraction.text import TfidfVectorizer\n",
    "from sklearn.linear_model import LogisticRegression\n",
    "from sklearn.metrics import accuracy_score, classification_report\n",
    "import warnings\n",
    "warnings.filterwarnings(\"ignore\")\n",
    "# Basic Preprocessing of text data-remove special characters, lowercase etc.\n",
    "def preprocess_text(text):\n",
    "    if isinstance(text, str):\n",
    "        text = re.sub(r'[^a-zA-Z\\s]', '', text)\n",
    "        text = text.lower()\n",
    "    return text\n",
    "\n",
    "# Converting all values in the 'description' column to strings to prevent error\n",
    "df['description'] = df['description'].astype(str)\n",
    "\n",
    "# Applying text preprocessing to the 'description' column\n",
    "df['description'] = df['description'].apply(preprocess_text)\n",
    "#Removing irrelevant text visible\n",
    "df['description'] = df['description'].str.replace('edges', '').str.replace('node', '').str.replace('text', '')\n",
    "df.head(2)"
   ]
  },
  {
   "cell_type": "code",
   "execution_count": 264,
   "id": "0f428ed1",
   "metadata": {},
   "outputs": [
    {
     "name": "stdout",
     "output_type": "stream",
     "text": [
      "Accuracy: 0.60\n",
      "              precision    recall  f1-score   support\n",
      "\n",
      "           0       0.58      0.95      0.72        74\n",
      "           1       0.75      0.19      0.31        62\n",
      "\n",
      "    accuracy                           0.60       136\n",
      "   macro avg       0.67      0.57      0.51       136\n",
      "weighted avg       0.66      0.60      0.53       136\n",
      "\n"
     ]
    }
   ],
   "source": [
    "X = df['description']\n",
    "y = df['label']\n",
    "\n",
    "# Splitting 70-30\n",
    "X_train, X_test, y_train, y_test = train_test_split(X, y, test_size=0.3, random_state=42)\n",
    "\n",
    "# Created TF-IDF vectorizer\n",
    "tfidf_vectorizer = TfidfVectorizer(max_features=10000)\n",
    "X_train_tfidf = tfidf_vectorizer.fit_transform(X_train)\n",
    "# Transformed the test data\n",
    "X_test_tfidf = tfidf_vectorizer.transform(X_test)\n",
    "\n",
    "# Applying BASELINE Logistic Regression model. We can improve the accuracy by implementing more complex models or techniquesa\n",
    "model = LogisticRegression()\n",
    "model.fit(X_train_tfidf, y_train)\n",
    "y_pred = model.predict(X_test_tfidf)\n",
    "\n",
    "# Evaluating the model\n",
    "accuracy = accuracy_score(y_test, y_pred)\n",
    "print(f'Accuracy: {accuracy:.2f}')\n",
    "print(classification_report(y_test, y_pred))\n"
   ]
  },
  {
   "cell_type": "code",
   "execution_count": 265,
   "id": "299a7960",
   "metadata": {},
   "outputs": [
    {
     "name": "stdout",
     "output_type": "stream",
     "text": [
      "The input text is classified as: not pavbhaji\n"
     ]
    }
   ],
   "source": [
    "#################################   ManualTesting of the model with different examples    ##################################### \n",
    "def preprocess_text(text):\n",
    "    if isinstance(text, str):\n",
    "        text = re.sub(r'[^a-zA-Z\\s]', '', text)\n",
    "        text = text.lower()\n",
    "    return text\n",
    "\n",
    "# Input your text data here whatever you want to test\n",
    "input_text = \"edges node text straight vadapao\"\n",
    "\n",
    "# Preprocessing\n",
    "input_text = preprocess_text(input_text)\n",
    "# Creating a TF-IDF vectorizer\n",
    "tfidf_vectorizer = TfidfVectorizer(max_features=10000)\n",
    "tfidf_vectorizer.fit(X_train)\n",
    "# Transforming the input text using the trained vectorizer\n",
    "input_text_tfidf = tfidf_vectorizer.transform([input_text])\n",
    "# Using the trained model to predict the class\n",
    "predicted_class = model.predict(input_text_tfidf)\n",
    "# Mapping the predicted class label to a meaningful output\n",
    "if predicted_class[0] == 1:\n",
    "    prediction_result = \"pavbhaji\"\n",
    "else:\n",
    "    prediction_result = \"not pavbhaji\"\n",
    "print(f\"The input text is classified as: {prediction_result}\")\n"
   ]
  },
  {
   "cell_type": "code",
   "execution_count": null,
   "id": "65116893",
   "metadata": {},
   "outputs": [],
   "source": []
  },
  {
   "cell_type": "code",
   "execution_count": null,
   "id": "1b80682b",
   "metadata": {},
   "outputs": [],
   "source": []
  },
  {
   "cell_type": "code",
   "execution_count": null,
   "id": "f6722132",
   "metadata": {},
   "outputs": [],
   "source": []
  },
  {
   "cell_type": "code",
   "execution_count": null,
   "id": "c26e5314",
   "metadata": {},
   "outputs": [],
   "source": []
  },
  {
   "cell_type": "code",
   "execution_count": null,
   "id": "6235242c",
   "metadata": {},
   "outputs": [],
   "source": []
  },
  {
   "cell_type": "code",
   "execution_count": null,
   "id": "c66d1c88",
   "metadata": {},
   "outputs": [],
   "source": []
  },
  {
   "cell_type": "code",
   "execution_count": null,
   "id": "fcafa1b3",
   "metadata": {},
   "outputs": [],
   "source": []
  },
  {
   "cell_type": "code",
   "execution_count": null,
   "id": "31a0c06c",
   "metadata": {},
   "outputs": [],
   "source": []
  }
 ],
 "metadata": {
  "kernelspec": {
   "display_name": "Python 3 (ipykernel)",
   "language": "python",
   "name": "python3"
  },
  "language_info": {
   "codemirror_mode": {
    "name": "ipython",
    "version": 3
   },
   "file_extension": ".py",
   "mimetype": "text/x-python",
   "name": "python",
   "nbconvert_exporter": "python",
   "pygments_lexer": "ipython3",
   "version": "3.9.13"
  }
 },
 "nbformat": 4,
 "nbformat_minor": 5
}
